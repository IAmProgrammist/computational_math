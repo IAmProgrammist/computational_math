{
  "nbformat": 4,
  "nbformat_minor": 0,
  "metadata": {
    "colab": {
      "provenance": []
    },
    "kernelspec": {
      "name": "python3",
      "display_name": "Python 3"
    },
    "language_info": {
      "name": "python"
    }
  },
  "cells": [
    {
      "cell_type": "markdown",
      "source": [
        "Лабораторная работа №6\n",
        "\n",
        "Тема: Численное интегрирование\n",
        "\n",
        "Цель работы: Изучить основные численные формулы интегрирования, особенности их\n",
        "алгоритмизации."
      ],
      "metadata": {
        "id": "P6-paTQWsKQf"
      }
    },
    {
      "cell_type": "markdown",
      "source": [
        "Вариант 10\n",
        "\n",
        "$f(x) = \\frac{e^{0.2x}tanh(1.5x)}{1.2 + cos(x)}$\n",
        "\n",
        "1) Найти точное и приближенные значения определенного интеграла из индивидуального\n",
        "задания в интервале [a=0, b=10], использовав формулы численного интегрирования первого,\n",
        "второго и четвертого порядка аппроксимации. Подобрать оптимальный шаг h\n",
        "экспериментально. Для каждого полученного значения определить абсолютную,\n",
        "относительную погрешности (сопоставив точное и приближенные значения), проверить\n",
        "теоретическую оценку погрешности ε."
      ],
      "metadata": {
        "id": "OLUzXvrjPgy6"
      }
    },
    {
      "cell_type": "code",
      "source": [
        "# подключим пакет интегрирования из библиотеки scipy\n",
        "from scipy import integrate\n",
        "import math\n",
        "\n",
        "# опишем подынтегральную функцию\n",
        "def target_function_f(x):\n",
        " return (math.exp(0.2 * x) * math.tanh(1.5 * x)) / (1.2 + math.cos(x))\n",
        "# выполним интегрирование\n",
        "result = integrate.quad(target_function_f, 0.0, 10.0)\n",
        "# посмотрим результат\n",
        "print(\"Точное значение: \", result[0])"
      ],
      "metadata": {
        "colab": {
          "base_uri": "https://localhost:8080/"
        },
        "id": "v1YN58baAdCE",
        "outputId": "1a8dab82-4ce2-4e75-ecd8-6970d46d405f"
      },
      "execution_count": null,
      "outputs": [
        {
          "output_type": "stream",
          "name": "stdout",
          "text": [
            "Точное значение:  60.797393564866084\n"
          ]
        }
      ]
    },
    {
      "cell_type": "markdown",
      "source": [
        "Для методов левых и правых прямоугольников:\n",
        "\n",
        "$\\epsilon \\leq \\frac{1}{2} \\cdot 35.837 \\cdot (10 - 0) \\cdot 0.01 = 1.79185$\n",
        "\n",
        "Для метода средних прямоугольников:\n",
        "\n",
        "$\\epsilon \\leq \\frac{1}{24} \\cdot 164.289 \\cdot (10 - 0) \\cdot 0.0001 = 0.006845$\n",
        "\n",
        "Для метода трапеций:\n",
        "\n",
        "$\\epsilon \\leq \\frac{1}{12} \\cdot 164.289 \\cdot (10 - 0) \\cdot 0.0001 = 0.013691$\n",
        "\n",
        "Для метода Симпсона:\n",
        "\n",
        "$\\epsilon \\leq \\frac{10 - 0}{180} \\cdot 5097.638 \\cdot 0.00000001 = 0.00000283202$"
      ],
      "metadata": {
        "id": "JdmsA_uTA-ce"
      }
    },
    {
      "cell_type": "markdown",
      "source": [
        "2) Подготовить программы на языке Rust для всех численных расчетов."
      ],
      "metadata": {
        "id": "yB7pCvmNhQY6"
      }
    },
    {
      "cell_type": "code",
      "source": [
        "# Установка Rust\n",
        "!curl --proto '=https' --tlsv1.2 -sSf https://sh.rustup.rs | sh -s -- -y\n",
        "import os\n",
        "os.environ['PATH'] += \":/root/.cargo/bin\"\n",
        "# Проверка установки Rust\n",
        "!rustc --version"
      ],
      "metadata": {
        "id": "EXXAIYOSkjiM",
        "outputId": "a254aa9b-366a-44b5-fc49-a1fec6b0af87",
        "colab": {
          "base_uri": "https://localhost:8080/"
        }
      },
      "execution_count": null,
      "outputs": [
        {
          "output_type": "stream",
          "name": "stdout",
          "text": [
            "\u001b[1minfo:\u001b[0m downloading installer\n",
            "\u001b[0m\u001b[1minfo: \u001b[0mprofile set to 'default'\n",
            "\u001b[0m\u001b[1minfo: \u001b[0mdefault host triple is x86_64-unknown-linux-gnu\n",
            "\u001b[0m\u001b[1minfo: \u001b[0msyncing channel updates for 'stable-x86_64-unknown-linux-gnu'\n",
            "\u001b[0m\u001b[1minfo: \u001b[0mlatest update on 2024-05-02, rust version 1.78.0 (9b00956e5 2024-04-29)\n",
            "\u001b[0m\u001b[1minfo: \u001b[0mdownloading component 'cargo'\n",
            "\u001b[0m\u001b[1minfo: \u001b[0mdownloading component 'clippy'\n",
            "\u001b[0m\u001b[1minfo: \u001b[0mdownloading component 'rust-docs'\n",
            "\u001b[0m\u001b[1minfo: \u001b[0mdownloading component 'rust-std'\n",
            "\u001b[0m\u001b[1minfo: \u001b[0mdownloading component 'rustc'\n",
            "\u001b[0m\u001b[1minfo: \u001b[0mdownloading component 'rustfmt'\n",
            "\u001b[0m\u001b[1minfo: \u001b[0minstalling component 'cargo'\n",
            "  8.0 MiB /   8.0 MiB (100 %)   6.2 MiB/s in  1s ETA:  0s\n",
            "\u001b[0m\u001b[1minfo: \u001b[0minstalling component 'clippy'\n",
            "\u001b[0m\u001b[1minfo: \u001b[0minstalling component 'rust-docs'\n",
            " 15.1 MiB /  15.1 MiB (100 %)   1.4 MiB/s in 11s ETA:  0s\n",
            "\u001b[0m\u001b[1minfo: \u001b[0minstalling component 'rust-std'\n",
            " 24.3 MiB /  24.3 MiB (100 %)   6.8 MiB/s in  3s ETA:  0s\n",
            "\u001b[0m\u001b[1minfo: \u001b[0minstalling component 'rustc'\n",
            " 63.7 MiB /  63.7 MiB (100 %)   7.4 MiB/s in  8s ETA:  0s\n",
            "\u001b[0m\u001b[1minfo: \u001b[0minstalling component 'rustfmt'\n",
            "\u001b[0m\u001b[1minfo: \u001b[0mdefault toolchain set to 'stable-x86_64-unknown-linux-gnu'\n",
            "\n",
            "  \u001b[0m\u001b[1m\u001b[0m\u001b[1m\u001b[32mstable-x86_64-unknown-linux-gnu installed\u001b[0m - rustc 1.78.0 (9b00956e5 2024-04-29)\n",
            "\n",
            "\u001b[0m\u001b[1m\n",
            "Rust is installed now. Great!\n",
            "\u001b[0m\n",
            "To get started you may need to restart your current shell.\n",
            "This would reload your \u001b[0m\u001b[1mPATH\u001b[0m environment variable to include\n",
            "Cargo's bin directory ($HOME/.cargo/bin).\n",
            "\n",
            "To configure your current shell, you need to source\n",
            "the corresponding \u001b[0m\u001b[1menv\u001b[0m file under $HOME/.cargo.\n",
            "\n",
            "This is usually done by running one of the following (note the leading DOT):\n",
            ". \"$HOME/.cargo/env\"            # For sh/bash/zsh/ash/dash/pdksh\n",
            "source \"$HOME/.cargo/env.fish\"  # For fish\n",
            "rustc 1.78.0 (9b00956e5 2024-04-29)\n"
          ]
        }
      ]
    },
    {
      "cell_type": "code",
      "source": [
        "%%writefile lab6.rs\n",
        "\n",
        "fn f(x: f64) -> f64 {\n",
        "    (f64::exp(0.2 * x) * f64::tanh(1.5 * x)) / (1.2 + f64::cos(x))\n",
        "}\n",
        "\n",
        "fn first_l(mut a: f64, b: f64) -> f64 {\n",
        "    let h = 0.01;\n",
        "    let n = ((b - a) / h) as i64;\n",
        "    let mut res = 0.0;\n",
        "\n",
        "    for _i in 0..n {\n",
        "        res += f(a) * h;\n",
        "\n",
        "        a += h;\n",
        "    };\n",
        "\n",
        "    res\n",
        "}\n",
        "\n",
        "fn first_r(mut a: f64, b: f64) -> f64 {\n",
        "    let h = 0.01;\n",
        "    let n = ((b - a) / h) as i64;\n",
        "    a += h;\n",
        "    let mut res = 0.0;\n",
        "\n",
        "    for _i in 0..n {\n",
        "        res += f(a) * h;\n",
        "\n",
        "        a += h;\n",
        "    };\n",
        "\n",
        "    res\n",
        "}\n",
        "\n",
        "fn second_mid_sq(a: f64, b: f64) -> f64 {\n",
        "    let h = 0.01;\n",
        "    let n = ((b - a) / h) as i64;\n",
        "    let mut res = 0.0;\n",
        "    let mut xim1 = a;\n",
        "    let mut xi = a + h;\n",
        "\n",
        "    for _i in 1..n {\n",
        "        res += f((xim1 + xi) / 2.) * h;\n",
        "\n",
        "        xim1 += h;\n",
        "        xi += h;\n",
        "    };\n",
        "\n",
        "    res\n",
        "}\n",
        "\n",
        "fn second_trap(a: f64, b: f64) -> f64 {\n",
        "    let h = 0.01;\n",
        "    let n = ((b - a) / h) as i64;\n",
        "    let mut res = 0.0;\n",
        "    let mut xim1 = a;\n",
        "    let mut xi = a + h;\n",
        "\n",
        "    for _i in 1..n {\n",
        "        res += (f(xim1) + f(xi)) * h;\n",
        "\n",
        "        xim1 += h;\n",
        "        xi += h;\n",
        "    };\n",
        "\n",
        "    res / 2.\n",
        "}\n",
        "\n",
        "fn fourth_simp(a: f64, b: f64) -> f64 {\n",
        "    let h = 0.01;\n",
        "    let n = ((b - a) / h) as i64;\n",
        "    let mut res = f(a) + f(b);\n",
        "\n",
        "    for i in 1..n {\n",
        "        if i % 2 != 0 {\n",
        "            res += 4. * f(a + i as f64 * h);\n",
        "        } else {\n",
        "            res += 2. * f(a + i as f64 * h);\n",
        "        }\n",
        "    };\n",
        "\n",
        "    res * h / 3.\n",
        "}\n",
        "\n",
        "fn main() {\n",
        "    let a = 0.0;\n",
        "    let b = 10.0;\n",
        "\n",
        "    let actual = 60.797393564866084;\n",
        "\n",
        "    let ans_first_l = first_l(a, b);\n",
        "    println!(\"Метод левых прямоугольников: {}\", ans_first_l);\n",
        "    println!(\"Абсолютная погрешность: {}\", actual - ans_first_l);\n",
        "    println!(\"Относительная погрешность: {}\\n\\n\", (actual - ans_first_l) / actual);\n",
        "\n",
        "    let ans_first_r = first_r(a, b);\n",
        "    println!(\"Метод правых прямоугольников: {}\", ans_first_r);\n",
        "    println!(\"Абсолютная погрешность: {}\", actual - ans_first_r);\n",
        "    println!(\"Относительная погрешность: {}\\n\\n\", (actual - ans_first_r) / actual);\n",
        "\n",
        "    let ans_second_mid_sq = second_mid_sq(a, b);\n",
        "    println!(\"Метод средних прямоугольников: {}\", ans_second_mid_sq);\n",
        "    println!(\"Абсолютная погрешность: {}\", actual - ans_second_mid_sq);\n",
        "    println!(\"Относительная погрешность: {}\\n\\n\", (actual - ans_second_mid_sq) / actual);\n",
        "\n",
        "    let ans_second_trap = second_trap(a, b);\n",
        "    println!(\"Метод трапеций: {}\", ans_second_trap);\n",
        "    println!(\"Абсолютная погрешность: {}\", actual - ans_second_trap);\n",
        "    println!(\"Относительная погрешность: {}\\n\\n\", (actual - ans_second_trap) / actual);\n",
        "\n",
        "    let ans_fourth_simp = fourth_simp(a, b);\n",
        "    println!(\"Метод Симпсона: {}\", ans_fourth_simp);\n",
        "    println!(\"Абсолютная погрешность: {}\", actual - ans_fourth_simp);\n",
        "    println!(\"Относительная погрешность: {}\\n\\n\", (actual - ans_fourth_simp) / actual);\n",
        "}"
      ],
      "metadata": {
        "colab": {
          "base_uri": "https://localhost:8080/"
        },
        "id": "zdpbw0fAhHw5",
        "outputId": "1bec3c3b-aae9-4873-dc48-303941d5d627"
      },
      "execution_count": null,
      "outputs": [
        {
          "output_type": "stream",
          "name": "stdout",
          "text": [
            "Writing lab6.rs\n"
          ]
        }
      ]
    },
    {
      "cell_type": "code",
      "source": [
        "# Компиляция\n",
        "!rustc lab6.rs\n",
        "# Запуск скомпилированной программы\n",
        "!./lab6"
      ],
      "metadata": {
        "colab": {
          "base_uri": "https://localhost:8080/"
        },
        "id": "LPgZVQewjyBn",
        "outputId": "89c06fc2-bf45-4a1b-83c4-2c494881d350"
      },
      "execution_count": null,
      "outputs": [
        {
          "output_type": "stream",
          "name": "stdout",
          "text": [
            "Метод левых прямоугольников: 60.694803076548936\n",
            "Абсолютная погрешность: 0.10259048831714779\n",
            "Относительная погрешность: 0.0016874158956780231\n",
            "\n",
            "\n",
            "Метод правых прямоугольников: 60.89952663520929\n",
            "Абсолютная погрешность: -0.10213307034320707\n",
            "Относительная погрешность: -0.001679892251207102\n",
            "\n",
            "\n",
            "Метод средних прямоугольников: 60.59144197913307\n",
            "Абсолютная погрешность: 0.2059515857330112\n",
            "Относительная погрешность: 0.0033875068264773043\n",
            "\n",
            "\n",
            "Метод трапеций: 60.59109471922997\n",
            "Абсолютная погрешность: 0.20629884563611256\n",
            "Относительная погрешность: 0.0033932185828987513\n",
            "\n",
            "\n",
            "Метод Симпсона: 60.79739356855212\n",
            "Абсолютная погрешность: -0.0000000036860328123111685\n",
            "Относительная погрешность: -0.00000000006062813874378444\n",
            "\n",
            "\n"
          ]
        }
      ]
    },
    {
      "cell_type": "markdown",
      "source": [
        "Вывод: в ходе лабораторной работы изучили основные численные формулы интегрирования, особенности их\n",
        "алгоритмизации. Метод Симпсона оказался наиболее точным методом интегрирования."
      ],
      "metadata": {
        "id": "ZLCPacTukaU1"
      }
    }
  ]
}